{
  "nbformat": 4,
  "nbformat_minor": 0,
  "metadata": {
    "colab": {
      "provenance": [],
      "authorship_tag": "ABX9TyP5Fii6FzYdujSSLbXU4LFM",
      "include_colab_link": true
    },
    "kernelspec": {
      "name": "python3",
      "display_name": "Python 3"
    },
    "language_info": {
      "name": "python"
    }
  },
  "cells": [
    {
      "cell_type": "markdown",
      "metadata": {
        "id": "view-in-github",
        "colab_type": "text"
      },
      "source": [
        "<a href=\"https://colab.research.google.com/github/henriquejhas/w3schools/blob/main/string/casefold.ipynb\" target=\"_parent\"><img src=\"https://colab.research.google.com/assets/colab-badge.svg\" alt=\"Open In Colab\"/></a>"
      ]
    },
    {
      "cell_type": "markdown",
      "source": [
        "O método casefold() retorna uma string onde todos os caracteres estão em minúsculas.\n",
        "Este método é semelhante ao método lower(), mas o método casefold() converterá mais caracteres em minúsculas"
      ],
      "metadata": {
        "id": "cDC_lrsGJ90C"
      }
    },
    {
      "cell_type": "code",
      "execution_count": 18,
      "metadata": {
        "colab": {
          "base_uri": "https://localhost:8080/"
        },
        "id": "9qoyhTxpI8jT",
        "outputId": "8548ee32-5cac-4d77-d92a-83025c00f761"
      },
      "outputs": [
        {
          "output_type": "stream",
          "name": "stdout",
          "text": [
            "olá, mundo\n"
          ]
        }
      ],
      "source": [
        "texto = 'Olá, Mundo'\n",
        "print(texto.casefold())"
      ]
    },
    {
      "cell_type": "code",
      "source": [
        "texto = \"ß\"\n",
        "print(texto.casefold() + ' - ' + texto.lower())"
      ],
      "metadata": {
        "colab": {
          "base_uri": "https://localhost:8080/"
        },
        "id": "A5670BELN9k1",
        "outputId": "e1542df1-c500-4da4-b294-5ab52206b0f7"
      },
      "execution_count": 19,
      "outputs": [
        {
          "output_type": "stream",
          "name": "stdout",
          "text": [
            "ss - ß\n"
          ]
        }
      ]
    },
    {
      "cell_type": "code",
      "source": [
        "texto = 'Σ'\n",
        "print(texto.casefold() + ' - ' + texto.lower())"
      ],
      "metadata": {
        "colab": {
          "base_uri": "https://localhost:8080/"
        },
        "id": "sNzqgq-UPHU8",
        "outputId": "a0323582-f8ff-4eff-92de-c473d944ea89"
      },
      "execution_count": 21,
      "outputs": [
        {
          "output_type": "stream",
          "name": "stdout",
          "text": [
            "σ - σ\n"
          ]
        }
      ]
    },
    {
      "cell_type": "code",
      "source": [
        "# Comparando strings com casefold()\n",
        "texto1 = \"Olá, Mundo!\"\n",
        "texto2 = \"olÁ, mUnDo!\"\n",
        "\n",
        "if texto1.casefold() == texto2.casefold():\n",
        "  print(\"As strings são iguais!\")\n",
        "else:\n",
        "  print(\"As strings são diferentes!\")"
      ],
      "metadata": {
        "colab": {
          "base_uri": "https://localhost:8080/"
        },
        "id": "qk_mJdgMK2O7",
        "outputId": "d0710512-b99f-4b22-e0bf-123b865d00df"
      },
      "execution_count": 7,
      "outputs": [
        {
          "output_type": "stream",
          "name": "stdout",
          "text": [
            "As strings são iguais, ignorando o caso!\n"
          ]
        }
      ]
    }
  ]
}