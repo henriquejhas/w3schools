{
  "nbformat": 4,
  "nbformat_minor": 0,
  "metadata": {
    "colab": {
      "provenance": [],
      "authorship_tag": "ABX9TyMS9eKQ0qkc7e2BmjXeCTlO",
      "include_colab_link": true
    },
    "kernelspec": {
      "name": "python3",
      "display_name": "Python 3"
    },
    "language_info": {
      "name": "python"
    }
  },
  "cells": [
    {
      "cell_type": "markdown",
      "metadata": {
        "id": "view-in-github",
        "colab_type": "text"
      },
      "source": [
        "<a href=\"https://colab.research.google.com/github/henriquejhas/w3schools/blob/main/string/capitalize.ipynb\" target=\"_parent\"><img src=\"https://colab.research.google.com/assets/colab-badge.svg\" alt=\"Open In Colab\"/></a>"
      ]
    },
    {
      "cell_type": "markdown",
      "source": [
        "Métodos de string"
      ],
      "metadata": {
        "id": "0pGRWV6eRphm"
      }
    },
    {
      "cell_type": "code",
      "execution_count": 6,
      "metadata": {
        "colab": {
          "base_uri": "https://localhost:8080/"
        },
        "id": "Ha1f9b1fRcwn",
        "outputId": "8a32b8a9-ef65-4c3d-c45b-f7d00415005d"
      },
      "outputs": [
        {
          "output_type": "stream",
          "name": "stdout",
          "text": [
            "Python, a linguagem que te permite construir o futuro\n"
          ]
        }
      ],
      "source": [
        "# str.capitalize()\n",
        "# Esse método recebe uma string e  deixa somente a primeira letra\n",
        "# de toda a string em maiúscula e as outras em minúsculas\n",
        "\n",
        "string = \"python, a linguagem que te permite construir o futuro\"\n",
        "print(string.capitalize())"
      ]
    },
    {
      "cell_type": "code",
      "source": [
        "string = \"  PYTHON  \"\n",
        "print(string.capitalize())"
      ],
      "metadata": {
        "colab": {
          "base_uri": "https://localhost:8080/"
        },
        "id": "suh8xRZdTxZp",
        "outputId": "aeb2ec00-b2bf-4fa0-daac-fd217066749c"
      },
      "execution_count": 4,
      "outputs": [
        {
          "output_type": "stream",
          "name": "stdout",
          "text": [
            "  python  \n"
          ]
        }
      ]
    },
    {
      "cell_type": "code",
      "source": [
        "string = \"PYTHON\"\n",
        "print(string.capitalize())"
      ],
      "metadata": {
        "colab": {
          "base_uri": "https://localhost:8080/"
        },
        "id": "pANSLYf-U6TN",
        "outputId": "5e9e52b5-0fdb-4922-ac54-89bb0977ff7e"
      },
      "execution_count": 7,
      "outputs": [
        {
          "output_type": "stream",
          "name": "stdout",
          "text": [
            "Python\n"
          ]
        }
      ]
    }
  ]
}