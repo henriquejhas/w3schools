{
  "nbformat": 4,
  "nbformat_minor": 0,
  "metadata": {
    "colab": {
      "provenance": [],
      "authorship_tag": "ABX9TyO0SQSTCnYBg0E08ugr6Hpa",
      "include_colab_link": true
    },
    "kernelspec": {
      "name": "python3",
      "display_name": "Python 3"
    },
    "language_info": {
      "name": "python"
    }
  },
  "cells": [
    {
      "cell_type": "markdown",
      "metadata": {
        "id": "view-in-github",
        "colab_type": "text"
      },
      "source": [
        "<a href=\"https://colab.research.google.com/github/henriquejhas/w3schools/blob/main/string/center().ipynb\" target=\"_parent\"><img src=\"https://colab.research.google.com/assets/colab-badge.svg\" alt=\"Open In Colab\"/></a>"
      ]
    },
    {
      "cell_type": "markdown",
      "source": [
        "O método center() alinha a string ao centro, usando um caractere especificado (espaço é o padrão) como caractere de preenchimento."
      ],
      "metadata": {
        "id": "g_Yrz9qXRKII"
      }
    },
    {
      "cell_type": "code",
      "execution_count": 4,
      "metadata": {
        "colab": {
          "base_uri": "https://localhost:8080/"
        },
        "id": "0Odb1wDQRGjA",
        "outputId": "7e919886-f30d-4b7c-f554-77eb449a8b07"
      },
      "outputs": [
        {
          "output_type": "stream",
          "name": "stdout",
          "text": [
            "       Mundo        |\n"
          ]
        }
      ],
      "source": [
        "texto = 'Mundo'.center(20) + '|'\n",
        "print(texto)"
      ]
    },
    {
      "cell_type": "code",
      "source": [
        "texto = 'Mundo' + '|'\n",
        "print(texto)"
      ],
      "metadata": {
        "colab": {
          "base_uri": "https://localhost:8080/"
        },
        "id": "Lchhrh-pRxXv",
        "outputId": "538101cd-ec13-4568-e485-503b7ed17e7b"
      },
      "execution_count": 5,
      "outputs": [
        {
          "output_type": "stream",
          "name": "stdout",
          "text": [
            "Mundo|\n"
          ]
        }
      ]
    },
    {
      "cell_type": "code",
      "source": [
        "texto = ' Mundo '.center(20,'*') + '|'\n",
        "print(texto)"
      ],
      "metadata": {
        "colab": {
          "base_uri": "https://localhost:8080/"
        },
        "id": "VK1i7Fc3SCt6",
        "outputId": "4ecb621e-ca79-4363-bbdc-f47670dca002"
      },
      "execution_count": 8,
      "outputs": [
        {
          "output_type": "stream",
          "name": "stdout",
          "text": [
            "****** Mundo *******|\n"
          ]
        }
      ]
    }
  ]
}